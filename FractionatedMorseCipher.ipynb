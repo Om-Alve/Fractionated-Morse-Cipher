{
 "cells": [
  {
   "cell_type": "code",
   "execution_count": 413,
   "id": "a9b5e124-439c-40f9-9c88-c81768246ed4",
   "metadata": {},
   "outputs": [],
   "source": [
    "MORSE_CODE_DICT = {'A': '.-',\n",
    " 'B': '-...', 'C': '-.-.', 'D': '-..', 'E': '.',\n",
    " 'F': '..-.', 'G': '--.', 'H': '....', 'I': '..',\n",
    " 'J': '.---', 'K': '-.-', 'L': '.-..', 'M': '--',\n",
    " 'N': '-.', 'O': '---', 'P': '.--.', 'Q': '--.-',\n",
    " 'R': '.-.', 'S': '...', 'T': '-', 'U': '..-',\n",
    " 'V': '...-', 'W': '.--', 'X': '-..-', 'Y': '-.--',\n",
    " 'Z': '--..', '1': '.----', '2': '..---', '3': '...--',\n",
    " '4': '....-', '5': '.....', '6': '-....', '7': '--...',\n",
    " '8': '---..', '9': '----.', '0': '-----', '&': '.-...',\n",
    " '@': '.--.-.',':': '---...', ',': '--..--','.': '.-.-.-',\n",
    " \"'\": '.----.', '\"': '.-..-.x', '?': '..--..', '/': '-..-.',\n",
    " '=': '-...-', '+': '.-.-.', '-': '-....-', '(': '-.--.',\n",
    " ')': '-.--.-', '!': '-.-.--', ' ': ''}  # Exclamation mark is not in ITU-R recommendation\n",
    "# fmt: on\n",
    "REVERSE_DICT = {value: key for key,value in MORSE_CODE_DICT.items()}"
   ]
  },
  {
   "cell_type": "code",
   "execution_count": 414,
   "id": "9c46a42c-686d-4cee-b79e-789700b1241d",
   "metadata": {},
   "outputs": [
    {
     "data": {
      "text/plain": [
       "{'.-': 'A',\n",
       " '-...': 'B',\n",
       " '-.-.': 'C',\n",
       " '-..': 'D',\n",
       " '.': 'E',\n",
       " '..-.': 'F',\n",
       " '--.': 'G',\n",
       " '....': 'H',\n",
       " '..': 'I',\n",
       " '.---': 'J',\n",
       " '-.-': 'K',\n",
       " '.-..': 'L',\n",
       " '--': 'M',\n",
       " '-.': 'N',\n",
       " '---': 'O',\n",
       " '.--.': 'P',\n",
       " '--.-': 'Q',\n",
       " '.-.': 'R',\n",
       " '...': 'S',\n",
       " '-': 'T',\n",
       " '..-': 'U',\n",
       " '...-': 'V',\n",
       " '.--': 'W',\n",
       " '-..-': 'X',\n",
       " '-.--': 'Y',\n",
       " '--..': 'Z',\n",
       " '.----': '1',\n",
       " '..---': '2',\n",
       " '...--': '3',\n",
       " '....-': '4',\n",
       " '.....': '5',\n",
       " '-....': '6',\n",
       " '--...': '7',\n",
       " '---..': '8',\n",
       " '----.': '9',\n",
       " '-----': '0',\n",
       " '.-...': '&',\n",
       " '.--.-.': '@',\n",
       " '---...': ':',\n",
       " '--..--': ',',\n",
       " '.-.-.-': '.',\n",
       " '.----.': \"'\",\n",
       " '.-..-.x': '\"',\n",
       " '..--..': '?',\n",
       " '-..-.': '/',\n",
       " '-...-': '=',\n",
       " '.-.-.': '+',\n",
       " '-....-': '-',\n",
       " '-.--.': '(',\n",
       " '-.--.-': ')',\n",
       " '-.-.--': '!',\n",
       " '': ' '}"
      ]
     },
     "execution_count": 414,
     "metadata": {},
     "output_type": "execute_result"
    }
   ],
   "source": [
    "REVERSE_DICT"
   ]
  },
  {
   "cell_type": "code",
   "execution_count": 415,
   "id": "d8740134-b2d7-40ab-99de-ef2c5d3b575b",
   "metadata": {},
   "outputs": [
    {
     "data": {
      "text/plain": [
       "['-..',\n",
       " '.',\n",
       " '..-.',\n",
       " '.',\n",
       " '-.',\n",
       " '-..',\n",
       " '',\n",
       " '-',\n",
       " '....',\n",
       " '.',\n",
       " '',\n",
       " '.',\n",
       " '.-',\n",
       " '...',\n",
       " '-']"
      ]
     },
     "execution_count": 415,
     "metadata": {},
     "output_type": "execute_result"
    }
   ],
   "source": [
    "s = \"defend the east\".upper()\n",
    "e = [MORSE_CODE_DICT[letter] for letter in s]\n",
    "e"
   ]
  },
  {
   "cell_type": "code",
   "execution_count": 416,
   "id": "2e7c8984-21ac-436c-9e19-4bceef671a2f",
   "metadata": {},
   "outputs": [
    {
     "name": "stdout",
     "output_type": "stream",
     "text": [
      "-..x.x..-.x.x-.x-..xx-x....x.xx.x.-x...x-x\n"
     ]
    },
    {
     "data": {
      "text/plain": [
       "True"
      ]
     },
     "execution_count": 416,
     "metadata": {},
     "output_type": "execute_result"
    }
   ],
   "source": [
    "enc = 'x'.join(e)+'x'\n",
    "print(enc)\n",
    "\n",
    "enc == '-..x.x..-.x.x-.x-..xx-x....x.xx.x.-x...x-x'"
   ]
  },
  {
   "cell_type": "code",
   "execution_count": 417,
   "id": "667667e5-ccb7-4410-8104-118137183c42",
   "metadata": {},
   "outputs": [
    {
     "data": {
      "text/plain": [
       "78"
      ]
     },
     "execution_count": 417,
     "metadata": {},
     "output_type": "execute_result"
    }
   ],
   "source": [
    "d = \"\"\".........---------xxxxxxxx...---xxx...---xxx...---xx.-x.-x.-x.-x.-x.-x.-x.-x.-\"\"\"\n",
    "len(d)"
   ]
  },
  {
   "cell_type": "code",
   "execution_count": 436,
   "id": "7b47627d-d2b4-4fb1-9a64-a28494d5c38b",
   "metadata": {},
   "outputs": [
    {
     "data": {
      "text/plain": [
       "['...',\n",
       " '..-',\n",
       " '..x',\n",
       " '.-.',\n",
       " '.--',\n",
       " '.-x',\n",
       " '.x.',\n",
       " '.x-',\n",
       " '.xx',\n",
       " '-..',\n",
       " '-.-',\n",
       " '-.x',\n",
       " '--.',\n",
       " '---',\n",
       " '--x',\n",
       " '-x.',\n",
       " '-x-',\n",
       " '-xx',\n",
       " 'x..',\n",
       " 'x.-',\n",
       " 'x.x',\n",
       " 'x-.',\n",
       " 'x--',\n",
       " 'x-x',\n",
       " 'xx.',\n",
       " 'xx-']"
      ]
     },
     "execution_count": 436,
     "metadata": {},
     "output_type": "execute_result"
    }
   ],
   "source": [
    "morse_combinations = []\n",
    "\n",
    "for i in range(26):\n",
    "    morse_combinations.append(d[i]+d[i+26]+d[i+52])\n",
    "morse_combinations"
   ]
  },
  {
   "cell_type": "code",
   "execution_count": 419,
   "id": "edbbd104-375b-426a-a719-a1d5002d3d04",
   "metadata": {},
   "outputs": [],
   "source": [
    "key = \"ROUNDTABLE\""
   ]
  },
  {
   "cell_type": "code",
   "execution_count": 431,
   "id": "6966b45a-97ab-4b19-8bb7-65aaf7bd201d",
   "metadata": {},
   "outputs": [
    {
     "data": {
      "text/plain": [
       "26"
      ]
     },
     "execution_count": 431,
     "metadata": {},
     "output_type": "execute_result"
    }
   ],
   "source": [
    "alphabet = \"ABCDEFGHIJKLMNOPQRSTUVWXYZ\"\n",
    "for letter in alphabet:\n",
    "    if letter not in key:\n",
    "        key+=letter\n",
    "len(key)"
   ]
  },
  {
   "cell_type": "code",
   "execution_count": 421,
   "id": "ee80b796-2387-4154-a29b-bb8415d1dbb9",
   "metadata": {},
   "outputs": [
    {
     "data": {
      "text/plain": [
       "(['R',\n",
       "  'O',\n",
       "  'U',\n",
       "  'N',\n",
       "  'D',\n",
       "  'T',\n",
       "  'A',\n",
       "  'B',\n",
       "  'L',\n",
       "  'E',\n",
       "  'C',\n",
       "  'F',\n",
       "  'G',\n",
       "  'H',\n",
       "  'I',\n",
       "  'J',\n",
       "  'K',\n",
       "  'M',\n",
       "  'P',\n",
       "  'Q',\n",
       "  'S',\n",
       "  'V',\n",
       "  'W',\n",
       "  'X',\n",
       "  'Y',\n",
       "  'Z'],\n",
       " ['...',\n",
       "  '..-',\n",
       "  '..x',\n",
       "  '.-.',\n",
       "  '.--',\n",
       "  '.-x',\n",
       "  '.x.',\n",
       "  '.x-',\n",
       "  '.xx',\n",
       "  '-..',\n",
       "  '-.-',\n",
       "  '-.x',\n",
       "  '--.',\n",
       "  '---',\n",
       "  '--x',\n",
       "  '-x.',\n",
       "  '-x-',\n",
       "  '-xx',\n",
       "  'x..',\n",
       "  'x.-',\n",
       "  'x.x',\n",
       "  'x-.',\n",
       "  'x--',\n",
       "  'x-x',\n",
       "  'xx.',\n",
       "  'xx-'])"
      ]
     },
     "execution_count": 421,
     "metadata": {},
     "output_type": "execute_result"
    }
   ],
   "source": [
    "key = list(key)\n",
    "key,morse_combinations"
   ]
  },
  {
   "cell_type": "code",
   "execution_count": 422,
   "id": "644edc9a-bc1e-47ca-b3af-e8f8cecd9169",
   "metadata": {},
   "outputs": [
    {
     "name": "stdout",
     "output_type": "stream",
     "text": [
      "{'...': 'R', '..-': 'O', '..x': 'U', '.-.': 'N', '.--': 'D', '.-x': 'T', '.x.': 'A', '.x-': 'B', '.xx': 'L', '-..': 'E', '-.-': 'C', '-.x': 'F', '--.': 'G', '---': 'H', '--x': 'I', '-x.': 'J', '-x-': 'K', '-xx': 'M', 'x..': 'P', 'x.-': 'Q', 'x.x': 'S', 'x-.': 'V', 'x--': 'W', 'x-x': 'X', 'xx.': 'Y', 'xx-': 'Z'}\n"
     ]
    }
   ],
   "source": [
    "new_dict = {l:k for k,l in zip(key,morse_combinations)}\n",
    "print(new_dict)"
   ]
  },
  {
   "cell_type": "code",
   "execution_count": 423,
   "id": "da98ca86-7beb-4a1a-bc6b-f8a330094442",
   "metadata": {},
   "outputs": [],
   "source": [
    "enc += 'x'*(len(enc)%3)"
   ]
  },
  {
   "cell_type": "code",
   "execution_count": 424,
   "id": "b36ae857-064c-4791-9758-950628a1858c",
   "metadata": {},
   "outputs": [
    {
     "data": {
      "text/plain": [
       "42"
      ]
     },
     "execution_count": 424,
     "metadata": {},
     "output_type": "execute_result"
    }
   ],
   "source": [
    "len(enc)"
   ]
  },
  {
   "cell_type": "code",
   "execution_count": 425,
   "id": "e3417bdc-d644-47d6-acd8-76eb1a37400c",
   "metadata": {},
   "outputs": [
    {
     "data": {
      "text/plain": [
       "'-..x.x..-.x.x-.x-..xx-x....x.xx.x.-x...x-x'"
      ]
     },
     "execution_count": 425,
     "metadata": {},
     "output_type": "execute_result"
    }
   ],
   "source": [
    "enc"
   ]
  },
  {
   "cell_type": "code",
   "execution_count": 426,
   "id": "fc4514cf-b10e-4393-945c-f77abb0be3bb",
   "metadata": {},
   "outputs": [],
   "source": [
    "ans = \"\"\n",
    "for i in range(0,len(enc),3):\n",
    "    ans= ans +new_dict[enc[i:i+3]]"
   ]
  },
  {
   "cell_type": "code",
   "execution_count": 427,
   "id": "40fc328b-68b6-4103-890b-4a17f6353ec1",
   "metadata": {},
   "outputs": [
    {
     "data": {
      "text/plain": [
       "'ESOAVVLJRSSTRX'"
      ]
     },
     "execution_count": 427,
     "metadata": {},
     "output_type": "execute_result"
    }
   ],
   "source": [
    "ans"
   ]
  },
  {
   "cell_type": "code",
   "execution_count": 429,
   "id": "9ba03a6a-31d9-4d3b-8e06-393a241bdd63",
   "metadata": {},
   "outputs": [
    {
     "data": {
      "text/plain": [
       "True"
      ]
     },
     "execution_count": 429,
     "metadata": {},
     "output_type": "execute_result"
    }
   ],
   "source": [
    "ans == 'ESOAVVLJRSSTRX'"
   ]
  },
  {
   "cell_type": "code",
   "execution_count": 453,
   "id": "44c4170e-0ed7-4b3c-9277-8317256526f2",
   "metadata": {},
   "outputs": [
    {
     "name": "stdout",
     "output_type": "stream",
     "text": [
      "....x.x.-..x.-..x---xx.--x---x.-.x.-..x-..\n",
      "Encrypted: RAQUNBIQKINQUE\n",
      "....x.x.-..x.-..x---xx.--x---x.-.x.-..x-..\n",
      "Decrypted: HELLO WORLD\n"
     ]
    }
   ],
   "source": [
    "\"\"\"\n",
    "Python program for the Fractionated Morse Cipher.\n",
    "\n",
    "The Fractionated Morse cipher first converts the plaintext to morse code,\n",
    "then enciphers fixed-size blocks of morse code back to letters.\n",
    "This procedure means plaintext letters are mixed into the ciphertext letters,\n",
    "making it more secure than substitution ciphers.\n",
    "\"\"\"\n",
    "\n",
    "import string\n",
    "\n",
    "# Define Morse code dictionary\n",
    "MORSE_CODE_DICT = {\n",
    "    'A': '.-', 'B': '-...', 'C': '-.-.', 'D': '-..', 'E': '.', 'F': '..-.',\n",
    "    'G': '--.', 'H': '....', 'I': '..', 'J': '.---', 'K': '-.-', 'L': '.-..',\n",
    "    'M': '--', 'N': '-.', 'O': '---', 'P': '.--.', 'Q': '--.-', 'R': '.-.',\n",
    "    'S': '...', 'T': '-', 'U': '..-', 'V': '...-', 'W': '.--', 'X': '-..-',\n",
    "    'Y': '-.--', 'Z': '--..', '1': '.----', '2': '..---', '3': '...--',\n",
    "    '4': '....-', '5': '.....', '6': '-....', '7': '--...', '8': '---..',\n",
    "    '9': '----.', '0': '-----', '&': '.-...', '@': '.--.-.', ':': '---...',\n",
    "    ',': '--..--', '.': '.-.-.-', \"'\": '.----.', '\"': '.-..-.x', '?': '..--..',\n",
    "    '/': '-..-.', '=': '-...-', '+': '.-.-.', '-': '-....-', '(': '-.--.',\n",
    "    ')': '-.--.-', '!': '-.-.--', ' ': ''\n",
    "}\n",
    "\n",
    "MORSE_COMBINATIONS = ['...',\n",
    " '..-', '..x', '.-.', '.--', '.-x', '.x.','.x-','.xx', '-..','-.-', '-.x','--.',\n",
    " '---', '--x', '-x.', '-x-', '-xx', 'x..', 'x.-', 'x.x', 'x-.', 'x--', 'x-x', 'xx.', 'xx-']\n",
    "\n",
    "# Create a reverse dictionary for Morse code\n",
    "REVERSE_DICT = {value: key for key, value in MORSE_CODE_DICT.items()}\n",
    "\n",
    "def encrypt_fractionated_morse(plaintext: str, key: str) -> str:\n",
    "    # Encode plaintext to Morse code\n",
    "    morse_code = 'x'.join([MORSE_CODE_DICT[letter] for letter in plaintext.upper()])\n",
    "    key = key.upper()\n",
    "    alphabet = string.ascii_uppercase\n",
    "    for letter in alphabet:\n",
    "        if letter not in key:\n",
    "            key+=letter\n",
    "    print(morse_code)\n",
    "    # Create Fractionated Morse code key\n",
    "    key_len = len(key)\n",
    "    \n",
    "    fractionated_morse_dict = {l:k for k,l in zip(key,morse_combinations)}\n",
    "    morse_code+='x'*(len(morse_code)%3)\n",
    "\n",
    "    # Encrypt the plaintext using Fractionated Morse\n",
    "    encrypted_text = \"\"\n",
    "    for i in range(0,len(enc),3):\n",
    "        encrypted_text+=new_dict[morse_code[i:i+3]]\n",
    "    return encrypted_text\n",
    "\n",
    "def decrypt_fractionated_morse(ciphertext: str, key: str) -> str:\n",
    "    # Inverse the key-value mapping\n",
    "    inverse_dict = {v: k for k, v in MORSE_CODE_DICT.items()}\n",
    "    \n",
    "    key = key.upper()\n",
    "    alphabet = string.ascii_uppercase\n",
    "    for letter in alphabet:\n",
    "        if letter not in key:\n",
    "            key+=letter\n",
    "    inverse_fractionated_morse_dic = {k:l for k,l in zip(key,morse_combinations)}\n",
    "    \n",
    "    morse_code = ''.join([inverse_fractionated_morse_dic[l] for l in ciphertext])\n",
    "    print(morse_code)\n",
    "    # Decrypt the ciphertext using Fractionated Morse\n",
    "    decrypted_text = ''.join([inverse_dict[code] for code in morse_code.split('x')])\n",
    "    \n",
    "    return decrypted_text\n",
    "\n",
    "def main():\n",
    "    plaintext = \"HELLO world\"\n",
    "    key = \"ROUNDTABLE\"\n",
    "\n",
    "    ciphertext = encrypt_fractionated_morse(plaintext, key)\n",
    "    print(\"Encrypted:\", ciphertext)\n",
    "\n",
    "    decrypted_text = decrypt_fractionated_morse(ciphertext, key)\n",
    "    print(\"Decrypted:\", decrypted_text)\n",
    "\n",
    "main()\n"
   ]
  }
 ],
 "metadata": {
  "kernelspec": {
   "display_name": "Python 3 (ipykernel)",
   "language": "python",
   "name": "python3"
  },
  "language_info": {
   "codemirror_mode": {
    "name": "ipython",
    "version": 3
   },
   "file_extension": ".py",
   "mimetype": "text/x-python",
   "name": "python",
   "nbconvert_exporter": "python",
   "pygments_lexer": "ipython3",
   "version": "3.10.9"
  }
 },
 "nbformat": 4,
 "nbformat_minor": 5
}
